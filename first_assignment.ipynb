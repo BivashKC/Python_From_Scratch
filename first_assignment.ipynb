{
 "cells": [
  {
   "cell_type": "code",
   "execution_count": 6,
   "id": "cdea3d12-0442-4087-a8e5-31a71fc55d69",
   "metadata": {},
   "outputs": [
    {
     "name": "stdin",
     "output_type": "stream",
     "text": [
      "Please enter your first number : 7\n",
      "Please enter your second number : 5\n",
      "Please enter 1 for addition, 2 for substraction, 3 for multiplication and 4 for division : 1\n"
     ]
    },
    {
     "name": "stdout",
     "output_type": "stream",
     "text": [
      "The sum of 7 and 5 is 12\n"
     ]
    }
   ],
   "source": [
    "# Make a Python program that acts as a simple calculator. The program\n",
    "# should take two numbers and an operator (+, -, x, /) as input from the\n",
    "# user and perform the corresponding operation, displaying the result.\n",
    "# The program should also handle any value errors that may occur\n",
    "\n",
    "a = int(input(\"Please enter your first number :\"))\n",
    "b = int(input(\"Please enter your second number :\"))\n",
    "c = int(input(\"Please enter 1 for addition, 2 for substraction, 3 for multiplication and 4 for division :\"))\n",
    "if c == 1:\n",
    "    print(f\"The sum of {a} and {b} is {a+b}\")\n",
    "elif c == 2:\n",
    "    print(f\"The substraction of {a} and {b} is {a0b}\")\n",
    "elif c == 3:\n",
    "         print(f\"The multipication of {a} and {b} is {a*b}\")\n",
    "elif c == 4:\n",
    "    print(f\"The divison of {a} and {b} is {a/b}\")\n",
    "else:\n",
    "    print('Invalid operation')"
   ]
  },
  {
   "cell_type": "code",
   "execution_count": 8,
   "id": "719591aa-6df7-43db-b13f-7477b0a3ae99",
   "metadata": {},
   "outputs": [
    {
     "name": "stdin",
     "output_type": "stream",
     "text": [
      "Please enter your obtained marks in first subject out of 100:  91\n",
      "Please enter your obtained marks in second subject out of 100:  81\n",
      "Please enter your obtained marks in third subject out of 100:  71\n",
      "Please enter your obtained marks in fourth subject out of 100:  61\n"
     ]
    },
    {
     "name": "stdout",
     "output_type": "stream",
     "text": [
      "You have obtained A grade.\n"
     ]
    }
   ],
   "source": [
    "# Make a Python program that calculates the grades based on the\n",
    "# percentage obtained in four different subjects. Use the following\n",
    "# grading scheme: 80% and above is A+, 70% to 79% is A, 60% to 69% is\n",
    "# A-, 50% to 59% is B, 40% to 49% is B-, and below 40% is Fail.\n",
    "\n",
    "a = int(input(\"Please enter your obtained marks in first subject out of 100: \"))\n",
    "b = int(input(\"Please enter your obtained marks in second subject out of 100: \"))\n",
    "c = int(input(\"Please enter your obtained marks in third subject out of 100: \"))\n",
    "d = int(input(\"Please enter your obtained marks in fourth subject out of 100: \"))\n",
    "percentage = (a+b+c+d)/4\n",
    "if percentage >= 80:\n",
    "    print(\"You have obtained A+ grade.\")\n",
    "elif percentage >= 70 and percentage <=79:\n",
    "    print(\"You have obtained A grade.\")\n",
    "elif percentage >= 60 and percentage <= 69:\n",
    "    print(\"You have obtained A- Grade.\")\n",
    "elif percentage >= 50 and percentage <= 59:\n",
    "    print(\"You have obtained B Grade.\")\n",
    "elif percentage >= 40 and percentage <= 49:\n",
    "    print(\"You have obtained B- Grade.\")\n",
    "else:\n",
    "    print(\"You have failed.\")"
   ]
  },
  {
   "cell_type": "code",
   "execution_count": 10,
   "id": "6a495f4f-54a3-4f37-9df7-a49c21769d9f",
   "metadata": {},
   "outputs": [
    {
     "name": "stdin",
     "output_type": "stream",
     "text": [
      "Guess the number between 1 and 100:  50\n"
     ]
    },
    {
     "name": "stdout",
     "output_type": "stream",
     "text": [
      "Your guess is low\n"
     ]
    },
    {
     "name": "stdin",
     "output_type": "stream",
     "text": [
      "Guess the number between 1 and 100:  25\n"
     ]
    },
    {
     "name": "stdout",
     "output_type": "stream",
     "text": [
      "Your guess is high\n"
     ]
    },
    {
     "name": "stdin",
     "output_type": "stream",
     "text": [
      "Guess the number between 1 and 100:  35\n"
     ]
    },
    {
     "name": "stdout",
     "output_type": "stream",
     "text": [
      "Your guess is high\n"
     ]
    },
    {
     "name": "stdin",
     "output_type": "stream",
     "text": [
      "Guess the number between 1 and 100:  45\n"
     ]
    },
    {
     "name": "stdout",
     "output_type": "stream",
     "text": [
      "Your guess is low\n"
     ]
    },
    {
     "name": "stdin",
     "output_type": "stream",
     "text": [
      "Guess the number between 1 and 100:  40\n"
     ]
    },
    {
     "name": "stdout",
     "output_type": "stream",
     "text": [
      "Congratulations! Your guess is correct.\n",
      "You guessed the number in 5 attempts.\n"
     ]
    }
   ],
   "source": [
    "# Write a Python program that generates a random number between 1\n",
    "# and 100 and asks the user to guess the number. The program should\n",
    "# provide feedback to the user (e.g., \"Too high\" or \"Too low\") based on\n",
    "# their guess and count the number of attempts it takes to guess the\n",
    "# correct number. Once the user guesses the correct number, the\n",
    "# program should display the number of attempts.\n",
    "\n",
    "import random\n",
    "\n",
    "randnum = random.randint(1, 100)\n",
    "guessCount = 0\n",
    "\n",
    "while True:\n",
    "    guess = int(input('Guess the number between 1 and 100: '))\n",
    "    guessCount += 1\n",
    "\n",
    "    if guess < randnum:\n",
    "        print(\"Your guess is high\")\n",
    "    elif guess > randnum:\n",
    "        print(\"Your guess is low\")\n",
    "    else:\n",
    "        print(\"Congratulations! Your guess is correct.\")\n",
    "        break\n",
    "\n",
    "print(f\"You guessed the number in {guessCount} attempts.\")"
   ]
  },
  {
   "cell_type": "code",
   "execution_count": null,
   "id": "e6753ee6-94ef-453b-a4c2-cd3ba858f22b",
   "metadata": {},
   "outputs": [],
   "source": []
  }
 ],
 "metadata": {
  "kernelspec": {
   "display_name": "Python 3 (ipykernel)",
   "language": "python",
   "name": "python3"
  },
  "language_info": {
   "codemirror_mode": {
    "name": "ipython",
    "version": 3
   },
   "file_extension": ".py",
   "mimetype": "text/x-python",
   "name": "python",
   "nbconvert_exporter": "python",
   "pygments_lexer": "ipython3",
   "version": "3.12.2"
  }
 },
 "nbformat": 4,
 "nbformat_minor": 5
}
